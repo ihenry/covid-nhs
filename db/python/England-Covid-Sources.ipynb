{
 "cells": [
  {
   "cell_type": "code",
   "execution_count": 8,
   "metadata": {},
   "outputs": [],
   "source": [
    "import bs4\n",
    "import requests\n",
    "import json\n",
    "import pandas as pd\n",
    "import os\n",
    "\n",
    "from bs4 import BeautifulSoup\n",
    "from datetime import date, datetime, timedelta"
   ]
  },
  {
   "cell_type": "markdown",
   "metadata": {},
   "source": [
    "## NHS UK\n",
    "https://digital.nhs.uk/data-and-information/publications/statistical/mi-potential-covid-19-symptoms-reported-through-nhs-pathways-and-111-online/latest\n"
   ]
  },
  {
   "cell_type": "code",
   "execution_count": 9,
   "metadata": {
    "tags": []
   },
   "outputs": [
    {
     "output_type": "stream",
     "name": "stdout",
     "text": "\n../src/data/NHSPathwaysCovid-latest.csv     6685126\nhttps://files.digital.nhs.uk/A6/0E402D/NHS%20Pathways%20Covid-19%20data%202020-07-08.csv\n\n../src/data/NHSPathwaysCovid-latest.csv     6685126\n"
    }
   ],
   "source": [
    "nhse = \"https://digital.nhs.uk/data-and-information/publications/statistical/mi-potential-covid-19-symptoms-reported-through-nhs-pathways-and-111-online/latest\"\n",
    "NHSPathwaysCovid = \"../src/data/NHSPathwaysCovid-latest.csv\"\n",
    "\n",
    "print('\\n'+ NHSPathwaysCovid + '     ' + str(os.stat(NHSPathwaysCovid).st_size))\n",
    "response = requests.get(nhse)\n",
    "soup = BeautifulSoup(response.content)\n",
    "blk=soup.find(class_=\"block-link\")\n",
    "pathways=blk.get('href')\n",
    "print(pathways)\n",
    "\n",
    "response = requests.get(pathways)\n",
    "file = open(NHSPathwaysCovid, \"wb\")\n",
    "file.write(response.content)\n",
    "file.close\n",
    "print('\\n'+ NHSPathwaysCovid + '     ' + str(os.stat(NHSPathwaysCovid).st_size))"
   ]
  },
  {
   "cell_type": "markdown",
   "metadata": {},
   "source": [
    "## 111 Latest"
   ]
  },
  {
   "cell_type": "code",
   "execution_count": 10,
   "metadata": {
    "tags": []
   },
   "outputs": [
    {
     "output_type": "stream",
     "name": "stdout",
     "text": "\n../src/data/111_Online_latest.csv     4993024\nhttps://files.digital.nhs.uk/E1/BB09B5/111%20Online%20Covid-19%20data_2020-07-08.csv\n\n../src/data/111_Online_latest.csv     4993024\n"
    }
   ],
   "source": [
    "One_Online = \"../src/data/111_Online_latest.csv\"\n",
    "\n",
    "print('\\n'+ One_Online + '     ' + str(os.stat(One_Online).st_size))\n",
    "blk=soup.find_all(class_=\"block-link\")\n",
    "for url in blk:\n",
    "    c = url.get('href')\n",
    "    if '111' in c and 'mapped' not in c and 'Description' not in c and 'Meta' not in c:\n",
    "        print(c)\n",
    "        one=c\n",
    "response = requests.get(one)\n",
    "file = open(One_Online, \"wb\")\n",
    "file.write(response.content)\n",
    "file.close\n",
    "print('\\n'+ One_Online + '     ' + str(os.stat(One_Online).st_size))"
   ]
  },
  {
   "cell_type": "markdown",
   "metadata": {},
   "source": [
    "## Testing Time Series"
   ]
  },
  {
   "cell_type": "code",
   "execution_count": 12,
   "metadata": {
    "tags": []
   },
   "outputs": [
    {
     "output_type": "stream",
     "name": "stdout",
     "text": "\n../src/data/testing.csv     84753\nhttps://assets.publishing.service.gov.uk/government/uploads/system/uploads/attachment_data/file/899321/2020-07-09_COVID-19_UK_testing_time_series.csv\n\n../src/data/testing.csv     84753\n"
    }
   ],
   "source": [
    "tests='https://www.gov.uk/guidance/coronavirus-covid-19-information-for-the-public'\n",
    "tts_dl=\"../src/data/testing.csv\"\n",
    "print('\\n'+ tts_dl + '     ' + str(os.stat(tts_dl).st_size))\n",
    "response = requests.get(tests)\n",
    "soup = BeautifulSoup(response.content)\n",
    "blk=soup.find_all(class_=\"govuk-link\")\n",
    "for url in blk:\n",
    "    link = url.get('href')\n",
    "    if 'testing_time_series' in link:\n",
    "        print(link)\n",
    "        tts=link\n",
    "response = requests.get(tts)\n",
    "file = open(tts_dl, \"wb\")\n",
    "file.write(response.content)\n",
    "file.close\n",
    "print('\\n'+ tts_dl + '     ' + str(os.stat(tts_dl).st_size))"
   ]
  },
  {
   "cell_type": "markdown",
   "metadata": {},
   "source": [
    "## Cases Latest"
   ]
  },
  {
   "cell_type": "code",
   "execution_count": 14,
   "metadata": {
    "tags": []
   },
   "outputs": [
    {
     "output_type": "stream",
     "name": "stdout",
     "text": "../src/data/coronavirus-cases_latest.csv     3667414\n../src/data/coronavirus-cases_latest.csv     3667414\n"
    }
   ],
   "source": [
    "cases = \"https://coronavirus.data.gov.uk/downloads/csv/coronavirus-cases_latest.csv\"\n",
    "cdl = \"../src/data/coronavirus-cases_latest.csv\"\n",
    "\n",
    "print(cdl + '     ' + str(os.stat(cdl).st_size))\n",
    "response = requests.get(cases)\n",
    "file = open(cdl, \"wb\")\n",
    "file.write(response.content)\n",
    "file.close\n",
    "print(cdl + '     ' + str(os.stat(cdl).st_size))"
   ]
  },
  {
   "cell_type": "markdown",
   "metadata": {},
   "source": [
    "## NHS England Deaths 2pm Weekdays\n",
    "https://www.england.nhs.uk/statistics/statistical-work-areas/covid-19-daily-deaths/"
   ]
  },
  {
   "cell_type": "code",
   "execution_count": 7,
   "metadata": {
    "tags": []
   },
   "outputs": [
    {
     "output_type": "stream",
     "name": "stdout",
     "text": "https://www.england.nhs.uk/statistics/wp-content/uploads/sites/2/2020/07/COVID-19-total-announced-deaths-9-July-2020.xlsx\n../src/data/hospital_deaths_england_current.csv     2741893\n../src/data/hospital_deaths_england_current.csv     2762996\nhttps://www.england.nhs.uk/statistics/wp-content/uploads/sites/2/2020/07/COVID-19-total-announced-deaths-8-July-2020.xlsx\n../src/data/hospital_deaths_england_previous.csv     2720790\n../src/data/hospital_deaths_england_previous.csv     2741893\n"
    }
   ],
   "source": [
    "if datetime.today().hour < 14:\n",
    "    current = date.today() - timedelta(1)\n",
    "    previous = date.today() - timedelta(2)\n",
    "else:\n",
    "    current = date.today() - timedelta(0)\n",
    "    previous = date.today() - timedelta(1)\n",
    "days = [current,previous]\n",
    "i = 0\n",
    "for d in days:\n",
    "    nhse='https://www.england.nhs.uk/statistics/wp-content/uploads/sites/2/2020/' + d.strftime('%m') + '/COVID-19-total-announced-deaths-' \\\n",
    "+ d.strftime('%-d-%b-%Y') + '.xlsx'\n",
    "    nhse='https://www.england.nhs.uk/statistics/wp-content/uploads/sites/2/2020/' + d.strftime('%m') + '/COVID-19-total-announced-deaths-' \\\n",
    "+ d.strftime('%-d-%B-%Y') + '.xlsx'\n",
    "    print(nhse)\n",
    "    df=pd.read_excel(nhse,skiprows=15,sheet_name='Tab4 Deaths by trust')\n",
    "    df = df[df.columns.drop(list(df.filter(regex='Unnamed')))]\n",
    "    df.drop(columns=['Awaiting verification','Total'], inplace=True)\n",
    "    df.drop([0, 1],inplace=True)\n",
    "    df.rename(columns={'NHS England Region': 'REGION', 'Code': 'REGION_CODE','Name': 'HOSPITAL', 'Up to 01-Mar-20': '2020-02-28',}, inplace=True)\n",
    "    #DQ Issues\n",
    "    #df.loc[(df['2020-02-28'] == 'RA4'),['2020-02-28']]='0'\n",
    "    #df = df[df['REGION_CODE'].notna()]\n",
    "    df.dropna(subset =['REGION_CODE'], inplace=True)\n",
    "\n",
    "    df=pd.melt(df,id_vars=[\"REGION\",\"REGION_CODE\",\"HOSPITAL\"], var_name=\"DATE\", value_name=\"DEATHS\")\n",
    "    df['REGION'] = df['REGION'].map(lambda x: x.strip())\n",
    "    df['DOWNLOAD_DATE'] = d.strftime('%Y-%m-%d')\n",
    "    i = i + 1\n",
    "    if i == 1:\n",
    "        file = \"../src/data/hospital_deaths_england_current.csv\"\n",
    "    elif i == 2:\n",
    "        file = \"../src/data/hospital_deaths_england_previous.csv\"\n",
    "    print(file + '     ' + str(os.stat(file).st_size))\n",
    "    df.to_csv(file,index=False)\n",
    "    print(file + '     ' + str(os.stat(file).st_size))"
   ]
  },
  {
   "cell_type": "markdown",
   "metadata": {},
   "source": [
    "## ONS - Updated Weekly, Tuesdays 9:30am\n",
    "https://www.ons.gov.uk/peoplepopulationandcommunity/healthandsocialcare/causesofdeath/datasets/deathregistrationsandoccurrencesbylocalauthorityandhealthboard/2020"
   ]
  },
  {
   "cell_type": "code",
   "execution_count": 8,
   "metadata": {
    "tags": []
   },
   "outputs": [
    {
     "output_type": "stream",
     "name": "stdout",
     "text": "/Users/i049374/OneDrive - SAP SE/Dev/Github/covid-nhs/db/src/data/ONS-Deaths-Latest.csv     6690109\nhttps://www.ons.gov.uk/file?uri=%2fpeoplepopulationandcommunity%2fhealthandsocialcare%2fcausesofdeath%2fdatasets%2fdeathregistrationsandoccurrencesbylocalauthorityandhealthboard%2f2020/lahbtablesweek25.xlsx\n/Users/i049374/OneDrive - SAP SE/Dev/Github/covid-nhs/db/src/data/ONS-Deaths-Latest.csv     6690109\n"
    }
   ],
   "source": [
    "ons_page='https://www.ons.gov.uk/peoplepopulationandcommunity/healthandsocialcare/causesofdeath/datasets/deathregistrationsandoccurrencesbylocalauthorityandhealthboard'\n",
    "ons_file='/Users/i049374/OneDrive - SAP SE/Dev/Github/covid-nhs/db/src/data/ONS-Deaths-Latest.csv'\n",
    "ons_dl = '/Users/i049374/OneDrive - SAP SE/Dev/Github/covid-nhs/db/src/data/ONS-tmp.xlsx'\n",
    "print(ons_file + '     ' + str(os.stat(ons_file).st_size))\n",
    "\n",
    "today=date.today() - timedelta(8)\n",
    "week=today.strftime(\"%W\")\n",
    "ons = \"https://www.ons.gov.uk/file?uri=%2fpeoplepopulationandcommunity%2fhealthandsocialcare%2fcausesofdeath%2fdatasets%2fdeathregistrationsandoccurrencesbylocalauthorityandhealthboard%2f2020/lahbtablesweek\" + week + \".xlsx\"\n",
    "\n",
    "response = requests.get(ons)\n",
    "file = open(ons_dl, \"wb\")\n",
    "file.write(response.content)\n",
    "file.close\n",
    "\n",
    "df=pd.read_excel(ons_dl,skiprows=3,sheet_name='Occurrences - All data')\n",
    "df.rename(columns={'Area name ': 'Area name'}, inplace=True)\n",
    "\n",
    "df.to_csv(ons_file,index=False)\n",
    "os.remove(ons_dl)\n",
    "\n",
    "print(ons)\n",
    "print(ons_file + '     ' + str(os.stat(ons_file).st_size))"
   ]
  },
  {
   "cell_type": "markdown",
   "metadata": {},
   "source": [
    "## Done"
   ]
  },
  {
   "cell_type": "code",
   "execution_count": null,
   "metadata": {},
   "outputs": [],
   "source": []
  },
  {
   "cell_type": "markdown",
   "metadata": {},
   "source": [
    "## Pillar 2 Testing Data - weekly\n",
    "#### Not needed, data now part of \"cases\" dataset\n",
    "https://www.gov.uk/government/publications/national-covid-19-surveillance-reports"
   ]
  },
  {
   "cell_type": "code",
   "execution_count": 9,
   "metadata": {
    "tags": []
   },
   "outputs": [
    {
     "output_type": "stream",
     "name": "stdout",
     "text": "https://assets.publishing.service.gov.uk/government/uploads/system/uploads/attachment_data/file/897200/Weekly_COVID19_report_data_w27.xlsx\nhttps://assets.publishing.service.gov.uk/government/uploads/system/uploads/attachment_data/file/897200/Weekly_COVID19_report_data_w27.xlsx\nhttps://assets.publishing.service.gov.uk/government/uploads/system/uploads/attachment_data/file/896777/Weekly_COVID19_report_data_current.xlsx\nhttps://assets.publishing.service.gov.uk/government/uploads/system/uploads/attachment_data/file/896777/Weekly_COVID19_report_data_current.xlsx\n"
    }
   ],
   "source": [
    "import re\n",
    "pil2_web = 'https://www.gov.uk/government/publications/national-covid-19-surveillance-reports'\n",
    "pil2_file = \"../src/data/testing_Weekly_COVID19_report_data_w27.xlsx\"\n",
    "\n",
    "response = requests.get(pil2_web)\n",
    "soup = BeautifulSoup(response.content)\n",
    "blk=soup.find_all(href=re.compile(\"Weekly_COVID19_report_data\"))\n",
    "for url in blk:\n",
    "    dl = url.get('href')\n",
    "    print(dl)\n",
    "    response = requests.get(dl)\n",
    "    file = open(pil2_file, \"wb\")\n",
    "    file.write(response.content)\n",
    "    file.close\n"
   ]
  },
  {
   "cell_type": "code",
   "execution_count": 10,
   "metadata": {
    "tags": []
   },
   "outputs": [],
   "source": [
    "df=pd.read_excel(pil2_file,skiprows=7,sheet_name='Figure 9. Weekly rates UTLA')"
   ]
  },
  {
   "cell_type": "code",
   "execution_count": 11,
   "metadata": {},
   "outputs": [
    {
     "output_type": "execute_result",
     "data": {
      "text/plain": "   UTLA code                     UTLA name  Rate per 100,000 population\n0  E09000002          Barking and Dagenham                         1.42\n1  E09000003                        Barnet                         2.30\n2  E08000016                      Barnsley                        54.65\n3  E06000022  Bath and North East Somerset                         1.04\n4  E06000055                       Bedford                        41.95",
      "text/html": "<div>\n<style scoped>\n    .dataframe tbody tr th:only-of-type {\n        vertical-align: middle;\n    }\n\n    .dataframe tbody tr th {\n        vertical-align: top;\n    }\n\n    .dataframe thead th {\n        text-align: right;\n    }\n</style>\n<table border=\"1\" class=\"dataframe\">\n  <thead>\n    <tr style=\"text-align: right;\">\n      <th></th>\n      <th>UTLA code</th>\n      <th>UTLA name</th>\n      <th>Rate per 100,000 population</th>\n    </tr>\n  </thead>\n  <tbody>\n    <tr>\n      <th>0</th>\n      <td>E09000002</td>\n      <td>Barking and Dagenham</td>\n      <td>1.42</td>\n    </tr>\n    <tr>\n      <th>1</th>\n      <td>E09000003</td>\n      <td>Barnet</td>\n      <td>2.30</td>\n    </tr>\n    <tr>\n      <th>2</th>\n      <td>E08000016</td>\n      <td>Barnsley</td>\n      <td>54.65</td>\n    </tr>\n    <tr>\n      <th>3</th>\n      <td>E06000022</td>\n      <td>Bath and North East Somerset</td>\n      <td>1.04</td>\n    </tr>\n    <tr>\n      <th>4</th>\n      <td>E06000055</td>\n      <td>Bedford</td>\n      <td>41.95</td>\n    </tr>\n  </tbody>\n</table>\n</div>"
     },
     "metadata": {},
     "execution_count": 11
    }
   ],
   "source": [
    "df = df[df.columns.drop(list(df.filter(regex='Unnamed')))]\n",
    "df.head(5)"
   ]
  }
 ],
 "metadata": {
  "language_info": {
   "codemirror_mode": {
    "name": "ipython",
    "version": 3
   },
   "file_extension": ".py",
   "mimetype": "text/x-python",
   "name": "python",
   "nbconvert_exporter": "python",
   "pygments_lexer": "ipython3",
   "version": "3.6.7-final"
  },
  "orig_nbformat": 2,
  "kernelspec": {
   "name": "python36764bit00f668306a924f87832ebb0d66f5131e",
   "display_name": "Python 3.6.7 64-bit"
  }
 },
 "nbformat": 4,
 "nbformat_minor": 2
}